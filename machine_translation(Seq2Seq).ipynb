{
  "nbformat": 4,
  "nbformat_minor": 0,
  "metadata": {
    "colab": {
      "name": "machine_translation(Seq2Seq).ipynb",
      "version": "0.3.2",
      "provenance": [],
      "collapsed_sections": []
    },
    "kernelspec": {
      "name": "python3",
      "display_name": "Python 3"
    },
    "accelerator": "GPU"
  },
  "cells": [
    {
      "cell_type": "code",
      "metadata": {
        "id": "FSYlG6zMiqYO",
        "colab_type": "code",
        "colab": {
          "base_uri": "https://localhost:8080/",
          "height": 34
        },
        "outputId": "43ffae82-a98f-43ae-9b37-2a51ca4668a2"
      },
      "source": [
        "from google.colab import drive\n",
        "drive.mount('/content/gdrive')"
      ],
      "execution_count": 1,
      "outputs": [
        {
          "output_type": "stream",
          "text": [
            "Drive already mounted at /content/gdrive; to attempt to forcibly remount, call drive.mount(\"/content/gdrive\", force_remount=True).\n"
          ],
          "name": "stdout"
        }
      ]
    },
    {
      "cell_type": "code",
      "metadata": {
        "id": "0iqkmhoQh-Z4",
        "colab_type": "code",
        "colab": {}
      },
      "source": [
        "import os\n",
        "import sys\n",
        "import numpy as np\n",
        "import pandas as pd\n",
        "import matplotlib.pyplot as plt"
      ],
      "execution_count": 0,
      "outputs": []
    },
    {
      "cell_type": "code",
      "metadata": {
        "id": "n9UlldoHh-aB",
        "colab_type": "code",
        "colab": {
          "base_uri": "https://localhost:8080/",
          "height": 34
        },
        "outputId": "142c7404-1b0b-4b00-9a53-bc80d7aa9888"
      },
      "source": [
        "from keras.preprocessing.text import Tokenizer\n",
        "from keras.preprocessing.sequence import pad_sequences\n",
        "from keras.layers import Embedding, Dense, Input, LSTM\n",
        "from keras.models import Model, load_model\n",
        "from keras.callbacks import ModelCheckpoint"
      ],
      "execution_count": 3,
      "outputs": [
        {
          "output_type": "stream",
          "text": [
            "Using TensorFlow backend.\n"
          ],
          "name": "stderr"
        }
      ]
    },
    {
      "cell_type": "code",
      "metadata": {
        "id": "WJBqZjHmh-aK",
        "colab_type": "code",
        "colab": {}
      },
      "source": [
        "import keras.backend as K\n",
        "if len(K.tensorflow_backend._get_available_gpus()) > 0:\n",
        "    from keras.layers import CuDNNLSTM as LSTM"
      ],
      "execution_count": 0,
      "outputs": []
    },
    {
      "cell_type": "code",
      "metadata": {
        "id": "LMHP9w1ph-aP",
        "colab_type": "code",
        "colab": {}
      },
      "source": [
        "BATCH_SIZE = 64\n",
        "EPOCHS = 100\n",
        "EMBEDDING_DIM = 50\n",
        "MAX_VOCAB_SIZE = 20000\n",
        "MAX_SEQUENCE_LENGTH = 100\n",
        "NUM_SAMPLES = 10000\n",
        "LATENT_DIM = 256"
      ],
      "execution_count": 0,
      "outputs": []
    },
    {
      "cell_type": "code",
      "metadata": {
        "id": "rh0vreO_h-aT",
        "colab_type": "code",
        "colab": {}
      },
      "source": [
        "input_texts = []\n",
        "target_texts = []\n",
        "target_input_texts = []"
      ],
      "execution_count": 0,
      "outputs": []
    },
    {
      "cell_type": "code",
      "metadata": {
        "id": "6OZCyMLlh-aY",
        "colab_type": "code",
        "colab": {
          "base_uri": "https://localhost:8080/",
          "height": 34
        },
        "outputId": "b3c3f02d-395b-4977-c6c2-c17c751ef69b"
      },
      "source": [
        "count = 0\n",
        "with open('/content/gdrive/My Drive/Colab Notebooks/spa.txt') as f:\n",
        "    for line in f:\n",
        "        count+=1\n",
        "        if count > NUM_SAMPLES:\n",
        "            break\n",
        "        if '\\t' not in line:\n",
        "            continue\n",
        "        input_text, translation = line.rstrip().split('\\t')\n",
        "        input_texts.append(input_text)\n",
        "        target_input_texts.append('<sos> '+translation)\n",
        "        target_texts.append(translation+' <eos>')\n",
        "    print('Number of samples %d' % len(input_texts))"
      ],
      "execution_count": 7,
      "outputs": [
        {
          "output_type": "stream",
          "text": [
            "Number of samples 10000\n"
          ],
          "name": "stdout"
        }
      ]
    },
    {
      "cell_type": "code",
      "metadata": {
        "id": "juNrV3Sfh-ag",
        "colab_type": "code",
        "colab": {
          "base_uri": "https://localhost:8080/",
          "height": 34
        },
        "outputId": "492be4e0-21c5-4889-dd60-b42e2ca90e13"
      },
      "source": [
        "tokenizer_inputs = Tokenizer(num_words=MAX_VOCAB_SIZE)\n",
        "tokenizer_inputs.fit_on_texts(input_texts)\n",
        "input_sequences = tokenizer_inputs.texts_to_sequences(input_texts)\n",
        "\n",
        "word2idx_inputs = tokenizer_inputs.word_index\n",
        "print('Num of input words %d' % len(word2idx_inputs))"
      ],
      "execution_count": 8,
      "outputs": [
        {
          "output_type": "stream",
          "text": [
            "Num of input words 2364\n"
          ],
          "name": "stdout"
        }
      ]
    },
    {
      "cell_type": "code",
      "metadata": {
        "id": "h7ox8iLVh-am",
        "colab_type": "code",
        "colab": {}
      },
      "source": [
        "max_len_input = max(len(s) for s in input_sequences)"
      ],
      "execution_count": 0,
      "outputs": []
    },
    {
      "cell_type": "code",
      "metadata": {
        "id": "6rZ_t8PEh-ar",
        "colab_type": "code",
        "colab": {
          "base_uri": "https://localhost:8080/",
          "height": 34
        },
        "outputId": "e554b1a7-e5d4-4be6-d9e5-1c9aa68cc9b1"
      },
      "source": [
        "tokenizer_outputs = Tokenizer(num_words=MAX_VOCAB_SIZE, filters='')\n",
        "tokenizer_outputs.fit_on_texts(target_texts + target_input_texts)\n",
        "target_sequences = tokenizer_outputs.texts_to_sequences(target_texts)\n",
        "target_input_sequences = tokenizer_outputs.texts_to_sequences(target_input_texts)\n",
        "\n",
        "word2idx_outputs = tokenizer_outputs.word_index\n",
        "print('Num of output words %d' % len(word2idx_outputs))"
      ],
      "execution_count": 10,
      "outputs": [
        {
          "output_type": "stream",
          "text": [
            "Num of output words 6294\n"
          ],
          "name": "stdout"
        }
      ]
    },
    {
      "cell_type": "code",
      "metadata": {
        "id": "XvoDqTRDh-ax",
        "colab_type": "code",
        "colab": {}
      },
      "source": [
        "num_words_output = len(word2idx_outputs) + 1\n",
        "max_len_target = max(len(s) for s in target_sequences)"
      ],
      "execution_count": 0,
      "outputs": []
    },
    {
      "cell_type": "code",
      "metadata": {
        "id": "GOb_nlKqh-a2",
        "colab_type": "code",
        "colab": {
          "base_uri": "https://localhost:8080/",
          "height": 34
        },
        "outputId": "8ce81ba4-c9f2-4287-deff-eeafa51dda9a"
      },
      "source": [
        "encoder_inputs = pad_sequences(input_sequences, maxlen=max_len_input)\n",
        "print('encoder_inputs shape: ', encoder_inputs.shape)"
      ],
      "execution_count": 12,
      "outputs": [
        {
          "output_type": "stream",
          "text": [
            "encoder_inputs shape:  (10000, 5)\n"
          ],
          "name": "stdout"
        }
      ]
    },
    {
      "cell_type": "code",
      "metadata": {
        "id": "cJh8vKjjh-a8",
        "colab_type": "code",
        "colab": {
          "base_uri": "https://localhost:8080/",
          "height": 34
        },
        "outputId": "fccc279c-61c9-47c3-9cb2-a90f56133b41"
      },
      "source": [
        "decoder_inputs = pad_sequences(target_input_sequences, maxlen=max_len_target, padding='post')\n",
        "print('decoder_inputs shape: ', decoder_inputs.shape)"
      ],
      "execution_count": 13,
      "outputs": [
        {
          "output_type": "stream",
          "text": [
            "decoder_inputs shape:  (10000, 9)\n"
          ],
          "name": "stdout"
        }
      ]
    },
    {
      "cell_type": "code",
      "metadata": {
        "id": "LyY7Nx8Kh-bE",
        "colab_type": "code",
        "colab": {}
      },
      "source": [
        "decoder_targets = pad_sequences(target_sequences, maxlen=max_len_target, padding='post')"
      ],
      "execution_count": 0,
      "outputs": []
    },
    {
      "cell_type": "code",
      "metadata": {
        "id": "PL-Cu31Mh-bJ",
        "colab_type": "code",
        "colab": {
          "base_uri": "https://localhost:8080/",
          "height": 34
        },
        "outputId": "edba0147-b5e4-4fe8-e37a-30a634c7ad98"
      },
      "source": [
        "word2vec = {}\n",
        "with open('/content/gdrive/My Drive/Colab Notebooks/glove.6B.%sd.txt' % EMBEDDING_DIM) as f:\n",
        "    for line in f:\n",
        "        values = line.split()\n",
        "        word = values[0]\n",
        "        vec = np.asarray(values[1:], dtype='float32')\n",
        "        word2vec[word] = vec\n",
        "    print('Num of word vectors %d' % len(word2vec))"
      ],
      "execution_count": 15,
      "outputs": [
        {
          "output_type": "stream",
          "text": [
            "Num of word vectors 400000\n"
          ],
          "name": "stdout"
        }
      ]
    },
    {
      "cell_type": "code",
      "metadata": {
        "id": "OBykQtbKh-bR",
        "colab_type": "code",
        "colab": {
          "base_uri": "https://localhost:8080/",
          "height": 34
        },
        "outputId": "3bc7d954-1233-48c3-c076-8b073ea1c547"
      },
      "source": [
        "print('Filling pre-trained embeddings..')\n",
        "num_words = min(MAX_VOCAB_SIZE, len(word2idx_inputs)+1)\n",
        "embedding_matrix = np.zeros((num_words, EMBEDDING_DIM))\n",
        "for word, i in word2idx_inputs.items():\n",
        "    if i < MAX_VOCAB_SIZE:\n",
        "        embedding_vector = word2vec.get(word)\n",
        "        if embedding_vector is not None:\n",
        "            embedding_matrix[i] = embedding_vector"
      ],
      "execution_count": 16,
      "outputs": [
        {
          "output_type": "stream",
          "text": [
            "Filling pre-trained embeddings..\n"
          ],
          "name": "stdout"
        }
      ]
    },
    {
      "cell_type": "code",
      "metadata": {
        "id": "D4Bygit6h-bb",
        "colab_type": "code",
        "colab": {}
      },
      "source": [
        "embedding_layer = Embedding(\n",
        "    num_words,\n",
        "    EMBEDDING_DIM,\n",
        "    weights=[embedding_matrix],\n",
        "    input_length=max_len_input\n",
        ")"
      ],
      "execution_count": 0,
      "outputs": []
    },
    {
      "cell_type": "code",
      "metadata": {
        "id": "GucgKGNRh-bk",
        "colab_type": "code",
        "colab": {
          "base_uri": "https://localhost:8080/",
          "height": 87
        },
        "outputId": "178ebaea-d2d3-4b88-c6a6-98abed17ee5b"
      },
      "source": [
        "encoder_inputs_placeholder = Input(shape=(max_len_input,))\n",
        "x = embedding_layer(encoder_inputs_placeholder)\n",
        "encoder = LSTM(LATENT_DIM, return_state=True)\n",
        "encoder_outputs, h, c = encoder(x)\n",
        "encoder_states = [h, c]"
      ],
      "execution_count": 18,
      "outputs": [
        {
          "output_type": "stream",
          "text": [
            "WARNING:tensorflow:From /usr/local/lib/python3.6/dist-packages/tensorflow/python/framework/op_def_library.py:263: colocate_with (from tensorflow.python.framework.ops) is deprecated and will be removed in a future version.\n",
            "Instructions for updating:\n",
            "Colocations handled automatically by placer.\n"
          ],
          "name": "stdout"
        }
      ]
    },
    {
      "cell_type": "code",
      "metadata": {
        "id": "R6pgZZVxh-br",
        "colab_type": "code",
        "colab": {}
      },
      "source": [
        "decoder_inputs_placeholder = Input(shape=(max_len_target,))\n",
        "decoder_embedding = Embedding(num_words_output, LATENT_DIM)\n",
        "decoder_inputs_x = decoder_embedding(decoder_inputs_placeholder)\n",
        "decoder_lstm = LSTM(LATENT_DIM, return_sequences=True, return_state=True)\n",
        "decoder_outputs, _, _ = decoder_lstm(decoder_inputs_x, initial_state=encoder_states)\n",
        "decoder_dense = Dense(num_words_output, activation='softmax')\n",
        "decoder_outputs = decoder_dense(decoder_outputs)"
      ],
      "execution_count": 0,
      "outputs": []
    },
    {
      "cell_type": "code",
      "metadata": {
        "id": "xY0lwsDsh-bx",
        "colab_type": "code",
        "colab": {}
      },
      "source": [
        "model = Model([encoder_inputs_placeholder, decoder_inputs_placeholder], decoder_outputs)\n",
        "model.compile(\n",
        "    optimizer='rmsprop',\n",
        "    loss='categorical_crossentropy',\n",
        "    metrics=['accuracy']\n",
        ")"
      ],
      "execution_count": 0,
      "outputs": []
    },
    {
      "cell_type": "code",
      "metadata": {
        "id": "_36hUZc66W84",
        "colab_type": "code",
        "colab": {}
      },
      "source": [
        "def batch_generator(batch_size, data_len, encoder_x, decoder_x, decoder_y):\n",
        "    counter = 0\n",
        "    while True:\n",
        "        encoder_i = encoder_x[counter*batch_size:min((counter+1)*batch_size, data_len)]\n",
        "        decoder_i = decoder_x[counter*batch_size:min((counter+1)*batch_size, data_len)]\n",
        "        decoder_o = decoder_y[counter*batch_size:min((counter+1)*batch_size, data_len)]\n",
        "        length = min((counter+1)*batch_size, data_len)-counter*batch_size\n",
        "        decoder_one_hot = np.zeros((length, max_len_target, num_words_output), dtype='float32')\n",
        "        for i, d in enumerate(decoder_o):\n",
        "            for t, word in enumerate(d):\n",
        "                decoder_one_hot[i, t, word] = 1\n",
        "        counter+=1\n",
        "        if counter*batch_size >= data_len:\n",
        "            counter=0\n",
        "        yield [encoder_i, decoder_i], decoder_one_hot"
      ],
      "execution_count": 0,
      "outputs": []
    },
    {
      "cell_type": "code",
      "metadata": {
        "id": "ovW3OcFn2H2s",
        "colab_type": "code",
        "colab": {}
      },
      "source": [
        "random_idx = np.random.randint(0, len(input_texts), len(input_texts))"
      ],
      "execution_count": 0,
      "outputs": []
    },
    {
      "cell_type": "code",
      "metadata": {
        "id": "6vUgQ_Vj8hpv",
        "colab_type": "code",
        "colab": {}
      },
      "source": [
        "validation_split = 0.2\n",
        "validation_size = int(validation_split*len(encoder_inputs))\n",
        "train_len = len(encoder_inputs)-validation_size\n",
        "\n",
        "train_idx = random_idx[validation_size:]\n",
        "valid_idx = random_idx[:validation_size]"
      ],
      "execution_count": 0,
      "outputs": []
    },
    {
      "cell_type": "code",
      "metadata": {
        "id": "6ceqOjYq8eIW",
        "colab_type": "code",
        "colab": {}
      },
      "source": [
        "train_encoder_input = encoder_inputs[train_idx]\n",
        "valid_encoder_input = encoder_inputs[valid_idx]\n",
        "\n",
        "train_decoder_input = decoder_inputs[train_idx]\n",
        "valid_decoder_input = decoder_inputs[valid_idx]\n",
        "\n",
        "train_decoder_output = decoder_targets[train_idx]\n",
        "valid_decoder_output = decoder_targets[valid_idx]"
      ],
      "execution_count": 0,
      "outputs": []
    },
    {
      "cell_type": "code",
      "metadata": {
        "id": "GSIt2VWU9IrL",
        "colab_type": "code",
        "colab": {}
      },
      "source": [
        "train_gen = batch_generator(BATCH_SIZE, train_len, train_encoder_input, train_decoder_input, train_decoder_output)\n",
        "valid_gen = batch_generator(BATCH_SIZE, validation_size, valid_encoder_input, valid_decoder_input, valid_decoder_output)"
      ],
      "execution_count": 0,
      "outputs": []
    },
    {
      "cell_type": "code",
      "metadata": {
        "scrolled": false,
        "id": "3lcVFsaqh-b4",
        "colab_type": "code",
        "colab": {
          "base_uri": "https://localhost:8080/",
          "height": 3498
        },
        "outputId": "d7b12e22-8577-42d0-844a-910ff91eec50"
      },
      "source": [
        "r = model.fit_generator(train_gen,\n",
        "                       steps_per_epoch=train_len//BATCH_SIZE,\n",
        "                       epochs=EPOCHS,\n",
        "                       validation_data=valid_gen,\n",
        "                       validation_steps=validation_size//BATCH_SIZE)"
      ],
      "execution_count": 26,
      "outputs": [
        {
          "output_type": "stream",
          "text": [
            "WARNING:tensorflow:From /usr/local/lib/python3.6/dist-packages/tensorflow/python/ops/math_ops.py:3066: to_int32 (from tensorflow.python.ops.math_ops) is deprecated and will be removed in a future version.\n",
            "Instructions for updating:\n",
            "Use tf.cast instead.\n",
            "WARNING:tensorflow:From /usr/local/lib/python3.6/dist-packages/tensorflow/python/ops/math_grad.py:102: div (from tensorflow.python.ops.math_ops) is deprecated and will be removed in a future version.\n",
            "Instructions for updating:\n",
            "Deprecated in favor of operator or tf.math.divide.\n",
            "Epoch 1/100\n",
            "125/125 [==============================] - 6s 49ms/step - loss: 2.7041 - acc: 0.6451 - val_loss: 2.1982 - val_acc: 0.6960\n",
            "Epoch 2/100\n",
            "125/125 [==============================] - 3s 28ms/step - loss: 2.0564 - acc: 0.7010 - val_loss: 1.9966 - val_acc: 0.7133\n",
            "Epoch 3/100\n",
            "125/125 [==============================] - 3s 27ms/step - loss: 1.8339 - acc: 0.7197 - val_loss: 1.8412 - val_acc: 0.7278\n",
            "Epoch 4/100\n",
            "125/125 [==============================] - 3s 28ms/step - loss: 1.6455 - acc: 0.7371 - val_loss: 1.7168 - val_acc: 0.7451\n",
            "Epoch 5/100\n",
            "125/125 [==============================] - 3s 28ms/step - loss: 1.4838 - acc: 0.7532 - val_loss: 1.6191 - val_acc: 0.7579\n",
            "Epoch 6/100\n",
            "125/125 [==============================] - 3s 27ms/step - loss: 1.3448 - acc: 0.7687 - val_loss: 1.5478 - val_acc: 0.7678\n",
            "Epoch 7/100\n",
            "125/125 [==============================] - 3s 27ms/step - loss: 1.2217 - acc: 0.7845 - val_loss: 1.5006 - val_acc: 0.7740\n",
            "Epoch 8/100\n",
            "125/125 [==============================] - 3s 28ms/step - loss: 1.1108 - acc: 0.8000 - val_loss: 1.4247 - val_acc: 0.7867\n",
            "Epoch 9/100\n",
            "125/125 [==============================] - 3s 28ms/step - loss: 1.0125 - acc: 0.8160 - val_loss: 1.3823 - val_acc: 0.7945\n",
            "Epoch 10/100\n",
            "125/125 [==============================] - 3s 28ms/step - loss: 0.9229 - acc: 0.8307 - val_loss: 1.3412 - val_acc: 0.8004\n",
            "Epoch 11/100\n",
            "125/125 [==============================] - 3s 28ms/step - loss: 0.8412 - acc: 0.8446 - val_loss: 1.3045 - val_acc: 0.8056\n",
            "Epoch 12/100\n",
            "125/125 [==============================] - 3s 28ms/step - loss: 0.7640 - acc: 0.8584 - val_loss: 1.2636 - val_acc: 0.8135\n",
            "Epoch 13/100\n",
            "125/125 [==============================] - 4s 28ms/step - loss: 0.6932 - acc: 0.8719 - val_loss: 1.2303 - val_acc: 0.8163\n",
            "Epoch 14/100\n",
            "125/125 [==============================] - 4s 29ms/step - loss: 0.6302 - acc: 0.8829 - val_loss: 1.2068 - val_acc: 0.8212\n",
            "Epoch 15/100\n",
            "125/125 [==============================] - 3s 28ms/step - loss: 0.5706 - acc: 0.8941 - val_loss: 1.1722 - val_acc: 0.8257\n",
            "Epoch 16/100\n",
            "125/125 [==============================] - 3s 28ms/step - loss: 0.5176 - acc: 0.9043 - val_loss: 1.1510 - val_acc: 0.8310\n",
            "Epoch 17/100\n",
            "125/125 [==============================] - 3s 28ms/step - loss: 0.4710 - acc: 0.9131 - val_loss: 1.1291 - val_acc: 0.8355\n",
            "Epoch 18/100\n",
            "125/125 [==============================] - 3s 28ms/step - loss: 0.4296 - acc: 0.9211 - val_loss: 1.1063 - val_acc: 0.8399\n",
            "Epoch 19/100\n",
            "125/125 [==============================] - 3s 28ms/step - loss: 0.3908 - acc: 0.9284 - val_loss: 1.1031 - val_acc: 0.8415\n",
            "Epoch 20/100\n",
            "125/125 [==============================] - 3s 28ms/step - loss: 0.3547 - acc: 0.9348 - val_loss: 1.0722 - val_acc: 0.8460\n",
            "Epoch 21/100\n",
            "125/125 [==============================] - 3s 28ms/step - loss: 0.3212 - acc: 0.9413 - val_loss: 1.0562 - val_acc: 0.8511\n",
            "Epoch 22/100\n",
            "125/125 [==============================] - 3s 28ms/step - loss: 0.2918 - acc: 0.9468 - val_loss: 1.0450 - val_acc: 0.8536\n",
            "Epoch 23/100\n",
            "125/125 [==============================] - 3s 28ms/step - loss: 0.2645 - acc: 0.9525 - val_loss: 1.0352 - val_acc: 0.8548\n",
            "Epoch 24/100\n",
            "125/125 [==============================] - 3s 27ms/step - loss: 0.2406 - acc: 0.9572 - val_loss: 1.0320 - val_acc: 0.8565\n",
            "Epoch 25/100\n",
            "125/125 [==============================] - 3s 28ms/step - loss: 0.2184 - acc: 0.9617 - val_loss: 1.0161 - val_acc: 0.8591\n",
            "Epoch 26/100\n",
            "125/125 [==============================] - 4s 29ms/step - loss: 0.1981 - acc: 0.9653 - val_loss: 1.0184 - val_acc: 0.8606\n",
            "Epoch 27/100\n",
            "125/125 [==============================] - 4s 29ms/step - loss: 0.1802 - acc: 0.9690 - val_loss: 1.0160 - val_acc: 0.8616\n",
            "Epoch 28/100\n",
            "125/125 [==============================] - 4s 29ms/step - loss: 0.1646 - acc: 0.9718 - val_loss: 1.0053 - val_acc: 0.8628\n",
            "Epoch 29/100\n",
            "125/125 [==============================] - 3s 28ms/step - loss: 0.1501 - acc: 0.9748 - val_loss: 1.0061 - val_acc: 0.8635\n",
            "Epoch 30/100\n",
            "125/125 [==============================] - 3s 28ms/step - loss: 0.1367 - acc: 0.9768 - val_loss: 1.0046 - val_acc: 0.8646\n",
            "Epoch 31/100\n",
            "125/125 [==============================] - 3s 28ms/step - loss: 0.1245 - acc: 0.9790 - val_loss: 1.0046 - val_acc: 0.8649\n",
            "Epoch 32/100\n",
            "125/125 [==============================] - 3s 27ms/step - loss: 0.1131 - acc: 0.9809 - val_loss: 1.0006 - val_acc: 0.8659\n",
            "Epoch 33/100\n",
            "125/125 [==============================] - 3s 28ms/step - loss: 0.1028 - acc: 0.9823 - val_loss: 1.0037 - val_acc: 0.8670\n",
            "Epoch 34/100\n",
            "125/125 [==============================] - 3s 28ms/step - loss: 0.0938 - acc: 0.9836 - val_loss: 1.0040 - val_acc: 0.8684\n",
            "Epoch 35/100\n",
            "125/125 [==============================] - 4s 28ms/step - loss: 0.0860 - acc: 0.9850 - val_loss: 1.0006 - val_acc: 0.8690\n",
            "Epoch 36/100\n",
            "125/125 [==============================] - 4s 29ms/step - loss: 0.0791 - acc: 0.9861 - val_loss: 1.0139 - val_acc: 0.8691\n",
            "Epoch 37/100\n",
            "125/125 [==============================] - 4s 28ms/step - loss: 0.0726 - acc: 0.9873 - val_loss: 1.0249 - val_acc: 0.8681\n",
            "Epoch 38/100\n",
            "125/125 [==============================] - 3s 28ms/step - loss: 0.0666 - acc: 0.9882 - val_loss: 1.0207 - val_acc: 0.8701\n",
            "Epoch 39/100\n",
            "125/125 [==============================] - 3s 28ms/step - loss: 0.0611 - acc: 0.9889 - val_loss: 1.0337 - val_acc: 0.8688\n",
            "Epoch 40/100\n",
            "125/125 [==============================] - 3s 28ms/step - loss: 0.0559 - acc: 0.9895 - val_loss: 1.0208 - val_acc: 0.8715\n",
            "Epoch 41/100\n",
            "125/125 [==============================] - 3s 27ms/step - loss: 0.0518 - acc: 0.9901 - val_loss: 1.0350 - val_acc: 0.8705\n",
            "Epoch 42/100\n",
            "125/125 [==============================] - 3s 27ms/step - loss: 0.0485 - acc: 0.9905 - val_loss: 1.0346 - val_acc: 0.8717\n",
            "Epoch 43/100\n",
            "125/125 [==============================] - 3s 27ms/step - loss: 0.0453 - acc: 0.9914 - val_loss: 1.0403 - val_acc: 0.8709\n",
            "Epoch 44/100\n",
            "125/125 [==============================] - 3s 27ms/step - loss: 0.0433 - acc: 0.9914 - val_loss: 1.0345 - val_acc: 0.8722\n",
            "Epoch 45/100\n",
            "125/125 [==============================] - 4s 28ms/step - loss: 0.0405 - acc: 0.9918 - val_loss: 1.0322 - val_acc: 0.8721\n",
            "Epoch 46/100\n",
            "125/125 [==============================] - 3s 27ms/step - loss: 0.0380 - acc: 0.9921 - val_loss: 1.0579 - val_acc: 0.8705\n",
            "Epoch 47/100\n",
            "125/125 [==============================] - 3s 28ms/step - loss: 0.0360 - acc: 0.9923 - val_loss: 1.0537 - val_acc: 0.8725\n",
            "Epoch 48/100\n",
            "125/125 [==============================] - 3s 28ms/step - loss: 0.0348 - acc: 0.9923 - val_loss: 1.0730 - val_acc: 0.8702\n",
            "Epoch 49/100\n",
            "125/125 [==============================] - 3s 27ms/step - loss: 0.0331 - acc: 0.9927 - val_loss: 1.0649 - val_acc: 0.8718\n",
            "Epoch 50/100\n",
            "125/125 [==============================] - 3s 27ms/step - loss: 0.0325 - acc: 0.9926 - val_loss: 1.0623 - val_acc: 0.8721\n",
            "Epoch 51/100\n",
            "125/125 [==============================] - 3s 28ms/step - loss: 0.0307 - acc: 0.9928 - val_loss: 1.0897 - val_acc: 0.8708\n",
            "Epoch 52/100\n",
            "125/125 [==============================] - 3s 27ms/step - loss: 0.0293 - acc: 0.9931 - val_loss: 1.0734 - val_acc: 0.8722\n",
            "Epoch 53/100\n",
            "125/125 [==============================] - 3s 27ms/step - loss: 0.0285 - acc: 0.9929 - val_loss: 1.0876 - val_acc: 0.8706\n",
            "Epoch 54/100\n",
            "125/125 [==============================] - 3s 28ms/step - loss: 0.0278 - acc: 0.9930 - val_loss: 1.0907 - val_acc: 0.8715\n",
            "Epoch 55/100\n",
            "125/125 [==============================] - 3s 28ms/step - loss: 0.0270 - acc: 0.9932 - val_loss: 1.0940 - val_acc: 0.8716\n",
            "Epoch 56/100\n",
            "125/125 [==============================] - 3s 28ms/step - loss: 0.0258 - acc: 0.9931 - val_loss: 1.0974 - val_acc: 0.8721\n",
            "Epoch 57/100\n",
            "125/125 [==============================] - 3s 28ms/step - loss: 0.0247 - acc: 0.9935 - val_loss: 1.0867 - val_acc: 0.8733\n",
            "Epoch 58/100\n",
            "125/125 [==============================] - 3s 28ms/step - loss: 0.0245 - acc: 0.9934 - val_loss: 1.1029 - val_acc: 0.8716\n",
            "Epoch 59/100\n",
            "125/125 [==============================] - 3s 28ms/step - loss: 0.0241 - acc: 0.9935 - val_loss: 1.1036 - val_acc: 0.8729\n",
            "Epoch 60/100\n",
            "125/125 [==============================] - 4s 29ms/step - loss: 0.0239 - acc: 0.9936 - val_loss: 1.1049 - val_acc: 0.8716\n",
            "Epoch 61/100\n",
            "125/125 [==============================] - 4s 28ms/step - loss: 0.0239 - acc: 0.9936 - val_loss: 1.1072 - val_acc: 0.8720\n",
            "Epoch 62/100\n",
            "125/125 [==============================] - 3s 27ms/step - loss: 0.0233 - acc: 0.9937 - val_loss: 1.1076 - val_acc: 0.8709\n",
            "Epoch 63/100\n",
            "125/125 [==============================] - 3s 28ms/step - loss: 0.0233 - acc: 0.9936 - val_loss: 1.1078 - val_acc: 0.8722\n",
            "Epoch 64/100\n",
            "125/125 [==============================] - 3s 28ms/step - loss: 0.0228 - acc: 0.9937 - val_loss: 1.1115 - val_acc: 0.8709\n",
            "Epoch 65/100\n",
            "125/125 [==============================] - 4s 29ms/step - loss: 0.0223 - acc: 0.9937 - val_loss: 1.1068 - val_acc: 0.8709\n",
            "Epoch 66/100\n",
            "125/125 [==============================] - 3s 28ms/step - loss: 0.0219 - acc: 0.9936 - val_loss: 1.1153 - val_acc: 0.8710\n",
            "Epoch 67/100\n",
            "125/125 [==============================] - 3s 28ms/step - loss: 0.0218 - acc: 0.9936 - val_loss: 1.1128 - val_acc: 0.8714\n",
            "Epoch 68/100\n",
            "125/125 [==============================] - 3s 28ms/step - loss: 0.0217 - acc: 0.9936 - val_loss: 1.1221 - val_acc: 0.8708\n",
            "Epoch 69/100\n",
            "125/125 [==============================] - 3s 28ms/step - loss: 0.0208 - acc: 0.9938 - val_loss: 1.1380 - val_acc: 0.8704\n",
            "Epoch 70/100\n",
            "125/125 [==============================] - 3s 28ms/step - loss: 0.0205 - acc: 0.9938 - val_loss: 1.1333 - val_acc: 0.8702\n",
            "Epoch 71/100\n",
            "125/125 [==============================] - 3s 28ms/step - loss: 0.0200 - acc: 0.9940 - val_loss: 1.1365 - val_acc: 0.8695\n",
            "Epoch 72/100\n",
            "125/125 [==============================] - 3s 28ms/step - loss: 0.0200 - acc: 0.9938 - val_loss: 1.1148 - val_acc: 0.8717\n",
            "Epoch 73/100\n",
            "125/125 [==============================] - 3s 28ms/step - loss: 0.0197 - acc: 0.9938 - val_loss: 1.1347 - val_acc: 0.8704\n",
            "Epoch 74/100\n",
            "125/125 [==============================] - 3s 28ms/step - loss: 0.0197 - acc: 0.9939 - val_loss: 1.1378 - val_acc: 0.8690\n",
            "Epoch 75/100\n",
            "125/125 [==============================] - 3s 28ms/step - loss: 0.0192 - acc: 0.9939 - val_loss: 1.1397 - val_acc: 0.8686\n",
            "Epoch 76/100\n",
            "125/125 [==============================] - 3s 27ms/step - loss: 0.0200 - acc: 0.9936 - val_loss: 1.1321 - val_acc: 0.8691\n",
            "Epoch 77/100\n",
            "125/125 [==============================] - 3s 28ms/step - loss: 0.0192 - acc: 0.9939 - val_loss: 1.1196 - val_acc: 0.8702\n",
            "Epoch 78/100\n",
            "125/125 [==============================] - 3s 28ms/step - loss: 0.0191 - acc: 0.9939 - val_loss: 1.1352 - val_acc: 0.8691\n",
            "Epoch 79/100\n",
            "125/125 [==============================] - 3s 28ms/step - loss: 0.0183 - acc: 0.9940 - val_loss: 1.1377 - val_acc: 0.8690\n",
            "Epoch 80/100\n",
            "125/125 [==============================] - 3s 28ms/step - loss: 0.0184 - acc: 0.9940 - val_loss: 1.1405 - val_acc: 0.8698\n",
            "Epoch 81/100\n",
            "125/125 [==============================] - 3s 28ms/step - loss: 0.0192 - acc: 0.9937 - val_loss: 1.1478 - val_acc: 0.8691\n",
            "Epoch 82/100\n",
            "125/125 [==============================] - 4s 29ms/step - loss: 0.0186 - acc: 0.9939 - val_loss: 1.1395 - val_acc: 0.8689\n",
            "Epoch 83/100\n",
            "125/125 [==============================] - 3s 28ms/step - loss: 0.0182 - acc: 0.9940 - val_loss: 1.1706 - val_acc: 0.8658\n",
            "Epoch 84/100\n",
            "125/125 [==============================] - 3s 28ms/step - loss: 0.0180 - acc: 0.9940 - val_loss: 1.1469 - val_acc: 0.8678\n",
            "Epoch 85/100\n",
            "125/125 [==============================] - 3s 28ms/step - loss: 0.0180 - acc: 0.9941 - val_loss: 1.1536 - val_acc: 0.8699\n",
            "Epoch 86/100\n",
            "125/125 [==============================] - 3s 28ms/step - loss: 0.0180 - acc: 0.9938 - val_loss: 1.1601 - val_acc: 0.8686\n",
            "Epoch 87/100\n",
            "125/125 [==============================] - 3s 28ms/step - loss: 0.0179 - acc: 0.9937 - val_loss: 1.1568 - val_acc: 0.8691\n",
            "Epoch 88/100\n",
            "125/125 [==============================] - 3s 28ms/step - loss: 0.0181 - acc: 0.9939 - val_loss: 1.1709 - val_acc: 0.8677\n",
            "Epoch 89/100\n",
            "125/125 [==============================] - 3s 28ms/step - loss: 0.0183 - acc: 0.9937 - val_loss: 1.1577 - val_acc: 0.8685\n",
            "Epoch 90/100\n",
            "125/125 [==============================] - 3s 28ms/step - loss: 0.0180 - acc: 0.9938 - val_loss: 1.1747 - val_acc: 0.8678\n",
            "Epoch 91/100\n",
            "125/125 [==============================] - 3s 28ms/step - loss: 0.0180 - acc: 0.9939 - val_loss: 1.1925 - val_acc: 0.8676\n",
            "Epoch 92/100\n",
            "125/125 [==============================] - 3s 28ms/step - loss: 0.0181 - acc: 0.9939 - val_loss: 1.1916 - val_acc: 0.8668\n",
            "Epoch 93/100\n",
            "125/125 [==============================] - 3s 27ms/step - loss: 0.0185 - acc: 0.9935 - val_loss: 1.1798 - val_acc: 0.8676\n",
            "Epoch 94/100\n",
            "125/125 [==============================] - 3s 28ms/step - loss: 0.0183 - acc: 0.9938 - val_loss: 1.1900 - val_acc: 0.8674\n",
            "Epoch 95/100\n",
            "125/125 [==============================] - 3s 28ms/step - loss: 0.0185 - acc: 0.9937 - val_loss: 1.1856 - val_acc: 0.8663\n",
            "Epoch 96/100\n",
            "125/125 [==============================] - 3s 28ms/step - loss: 0.0183 - acc: 0.9936 - val_loss: 1.1895 - val_acc: 0.8670\n",
            "Epoch 97/100\n",
            "125/125 [==============================] - 3s 28ms/step - loss: 0.0180 - acc: 0.9936 - val_loss: 1.1960 - val_acc: 0.8661\n",
            "Epoch 98/100\n",
            "125/125 [==============================] - 3s 27ms/step - loss: 0.0177 - acc: 0.9938 - val_loss: 1.1857 - val_acc: 0.8665\n",
            "Epoch 99/100\n",
            "125/125 [==============================] - 3s 28ms/step - loss: 0.0179 - acc: 0.9938 - val_loss: 1.1811 - val_acc: 0.8672\n",
            "Epoch 100/100\n",
            "125/125 [==============================] - 3s 27ms/step - loss: 0.0182 - acc: 0.9936 - val_loss: 1.1831 - val_acc: 0.8678\n"
          ],
          "name": "stdout"
        }
      ]
    },
    {
      "cell_type": "code",
      "metadata": {
        "id": "ySk2w494h-b-",
        "colab_type": "code",
        "colab": {
          "base_uri": "https://localhost:8080/",
          "height": 269
        },
        "outputId": "6fd3084e-933c-48bb-aa2c-bb2f6d9a8394"
      },
      "source": [
        "plt.plot(r.history['loss'], label='loss')\n",
        "plt.plot(r.history['val_loss'], label='valid_loss')\n",
        "plt.legend()\n",
        "plt.show()"
      ],
      "execution_count": 27,
      "outputs": [
        {
          "output_type": "display_data",
          "data": {
            "image/png": "[encoded data removed]",
            "text/plain": [
              "<Figure size 432x288 with 1 Axes>"
            ]
          },
          "metadata": {
            "tags": []
          }
        }
      ]
    },
    {
      "cell_type": "code",
      "metadata": {
        "id": "CwWX-YuSh-cD",
        "colab_type": "code",
        "colab": {
          "base_uri": "https://localhost:8080/",
          "height": 269
        },
        "outputId": "f5b45d71-ee3e-4b02-e8ce-51833cda1c28"
      },
      "source": [
        "plt.plot(r.history['acc'], label='accuracy')\n",
        "plt.plot(r.history['val_acc'], label='valid_accuracy')\n",
        "plt.legend()\n",
        "plt.show()"
      ],
      "execution_count": 28,
      "outputs": [
        {
          "output_type": "display_data",
          "data": {
            "image/png": "[encoded data removed]",
            "text/plain": [
              "<Figure size 432x288 with 1 Axes>"
            ]
          },
          "metadata": {
            "tags": []
          }
        }
      ]
    },
    {
      "cell_type": "code",
      "metadata": {
        "id": "hMbxs2Dkh-cH",
        "colab_type": "code",
        "colab": {}
      },
      "source": [
        "encoder_model = Model(encoder_inputs_placeholder, encoder_states)\n",
        "\n",
        "decoder_state_input_h = Input((LATENT_DIM,))\n",
        "decoder_state_input_c = Input((LATENT_DIM,))\n",
        "decoder_states_input = [decoder_state_input_h, decoder_state_input_c]\n",
        "\n",
        "decoder_input_single = Input((1,))\n",
        "decoder_input_single_x = decoder_embedding(decoder_input_single)\n",
        "decoder_outputs, h, c = decoder_lstm(decoder_input_single_x, initial_state=decoder_states_input)\n",
        "decoder_states = [h, c]\n",
        "decoder_outputs = decoder_dense(decoder_outputs)"
      ],
      "execution_count": 0,
      "outputs": []
    },
    {
      "cell_type": "code",
      "metadata": {
        "id": "QzgJ4Z4Gh-cL",
        "colab_type": "code",
        "colab": {}
      },
      "source": [
        "decoder_model = Model([decoder_input_single]+decoder_states_input, [decoder_outputs]+decoder_states)"
      ],
      "execution_count": 0,
      "outputs": []
    },
    {
      "cell_type": "code",
      "metadata": {
        "id": "WJV-C2g8h-cP",
        "colab_type": "code",
        "colab": {}
      },
      "source": [
        "idx2word_eng = {v:k for k,v in word2idx_inputs.items()}\n",
        "idx2word_trans = {v:k for k,v in word2idx_outputs.items()}"
      ],
      "execution_count": 0,
      "outputs": []
    },
    {
      "cell_type": "code",
      "metadata": {
        "id": "YYIuKCaZh-cT",
        "colab_type": "code",
        "colab": {}
      },
      "source": [
        "def decode_sequence(input_seq):\n",
        "    \n",
        "    states_values = encoder_model.predict(input_seq)\n",
        "    target_seq = np.zeros((1, 1))\n",
        "    target_seq[0, 0] = word2idx_outputs['<sos>']\n",
        "    \n",
        "    eos = word2idx_outputs['<eos>']\n",
        "    \n",
        "    output_sentence = []\n",
        "    for _ in range(max_len_target):\n",
        "        output_tokens, h, c = decoder_model.predict([target_seq] + states_values)\n",
        "        \n",
        "        idx = np.argmax(output_tokens[0, 0, :])\n",
        "        \n",
        "        if eos == idx:\n",
        "            break\n",
        "        \n",
        "        word = ''\n",
        "        if idx > 0:\n",
        "            word = idx2word_trans[idx]\n",
        "            output_sentence.append(word)\n",
        "        \n",
        "        target_seq[0, 0]=idx\n",
        "        states_value = [h, c]\n",
        "    \n",
        "    return ' '.join(output_sentence)"
      ],
      "execution_count": 0,
      "outputs": []
    },
    {
      "cell_type": "code",
      "metadata": {
        "id": "eTefjK0hh-cc",
        "colab_type": "code",
        "colab": {
          "base_uri": "https://localhost:8080/",
          "height": 420
        },
        "outputId": "0ac1b950-b6eb-41ca-83c6-318b53cfc0a0"
      },
      "source": [
        "while True:\n",
        "    i = np.random.choice(len(input_texts))\n",
        "    input_seq = encoder_inputs[i:i+1]\n",
        "    translation = decode_sequence(input_seq)\n",
        "    print('---')\n",
        "    print('Input: '+input_texts[i])\n",
        "    print('Translation: '+translation)\n",
        "    \n",
        "    ans = input(\"Continue [Y/n]?\")\n",
        "    if ans and ans.lower().startswith('n'):\n",
        "        break"
      ],
      "execution_count": 33,
      "outputs": [
        {
          "output_type": "stream",
          "text": [
            "---\n",
            "Input: Tom sang softly.\n",
            "Translation: tom cantó tom cantó tom cantó tom cantó tom\n",
            "Continue [Y/n]?y\n",
            "---\n",
            "Input: He came running.\n",
            "Translation: se lo la ¿está en la ¿está en la\n",
            "Continue [Y/n]?y\n",
            "---\n",
            "Input: They'll starve.\n",
            "Translation: se van a he sentí de te he sentí\n",
            "Continue [Y/n]?y\n",
            "---\n",
            "Input: They know you.\n",
            "Translation: os conocen.\n",
            "Continue [Y/n]?y\n",
            "---\n",
            "Input: I heard a shout.\n",
            "Translation: he dicho que me he dicho que me he\n",
            "Continue [Y/n]?y\n",
            "---\n",
            "Input: Start writing.\n",
            "Translation: de libro.\n",
            "Continue [Y/n]?n\n"
          ],
          "name": "stdout"
        }
      ]
    },
    {
      "cell_type": "code",
      "metadata": {
        "id": "bXB1fCTda7IE",
        "colab_type": "code",
        "colab": {}
      },
      "source": [
        ""
      ],
      "execution_count": 0,
      "outputs": []
    }
  ]
}